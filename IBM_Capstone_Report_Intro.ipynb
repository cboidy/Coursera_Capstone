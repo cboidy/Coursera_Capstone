{
 "cells": [
  {
   "cell_type": "markdown",
   "metadata": {},
   "source": [
    "<h2>Introduction</h2>"
   ]
  },
  {
   "cell_type": "markdown",
   "metadata": {},
   "source": [
    "My family owns some commercial real estate in the Pilsen neighborhood of Chicago. We are considering selling these properties to purchase property in another neighborhood or city.\n",
    "\n",
    "Extrapolating based only on <i>price</i> over <i>time</i> might be sufficient for profitable real estate investment at scale. But for an individual with a small, non-diverse property portfolio, for whom the value of a given property is a significant contributor to net worth and for whom extracted rents account for a significant portion, if not the sole source of income, this approach is little more than a gamble. Therefore, a more informed model is warranted.\n",
    "\n",
    "Models predicting real estate prices based on variables besides <i>time</i> are not new (see Zillow, for example), but-\n",
    "- The inclusion of specific location features (e.g. nearby venues) in these models is limited. \n",
    "- For residential real estate, the weights of property features (e.g. \"number of bedrooms\") can be expected to be greater than for commercial real estate; i.e. a great house doesn't necessarily make for a great place of business.\n",
    "\n",
    "Even then I'm sure models exist doing what I'm setting out to do here, but oh well, I'm not at a point where I'm going to be doing any groundbreaking work anytime soon."
   ]
  },
  {
   "cell_type": "markdown",
   "metadata": {},
   "source": [
    "Using this model, one should be able to make predictions based on speculative developments (e.g. if we learn of plans to open a new museum in the area) and while one development might not have a significant impact, one could populate the model with many and evaluate their cumulative effects. Sources of this information would be city council agenda items, talks with aldermen, etc, but would be outside the scope of this project."
   ]
  }
 ],
 "metadata": {
  "kernelspec": {
   "display_name": "Python 3",
   "language": "python",
   "name": "python3"
  },
  "language_info": {
   "codemirror_mode": {
    "name": "ipython",
    "version": 3
   },
   "file_extension": ".py",
   "mimetype": "text/x-python",
   "name": "python",
   "nbconvert_exporter": "python",
   "pygments_lexer": "ipython3",
   "version": "3.6.8"
  }
 },
 "nbformat": 4,
 "nbformat_minor": 2
}
