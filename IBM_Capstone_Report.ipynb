{
 "cells": [
  {
   "cell_type": "markdown",
   "metadata": {},
   "source": [
    "<h2>Introduction</h2>"
   ]
  },
  {
   "cell_type": "markdown",
   "metadata": {},
   "source": [
    "My family owns some commercial real estate in the Pilsen neighborhood of Chicago. We are considering selling these properties to purchase property in another neighborhood or city.\n",
    "\n",
    "Extrapolating based only on <i>price</i> over <i>time</i> might be sufficient for profitable real estate investment at scale. But for an individual with a small, non-diverse property portfolio, for whom the value of a given property is a significant contributor to net worth and for whom extracted rents account for a significant portion, if not the sole source of income, this approach is little more than a gamble. Therefore, a more informed model is warranted.\n",
    "\n",
    "Models predicting real estate prices based on variables besides <i>time</i> are not new (see Zillow, for example), but-\n",
    "- The inclusion of specific location features (e.g. nearby venues) in these models is limited. \n",
    "- For residential real estate, the weights of property features (e.g. \"number of bedrooms\") can be expected to be greater than for commercial real estate; i.e. a great house doesn't necessarily make for a great place of business.\n",
    "\n",
    "Even then I'm sure models exist doing what I'm setting out to do here, but oh well, I'm not at a point where I'm going to be doing any groundbreaking work anytime soon."
   ]
  },
  {
   "cell_type": "markdown",
   "metadata": {},
   "source": [
    "Using this model, we should be able to make predictions based on speculative developments (e.g. if we learn of plans to open a new museum in the area) and while one development might not have a significant impact, we could populate the model with many and evaluate their cumulative effects. Sources of this information would be city council agenda items, talks with aldermen, etc, but would be outside the scope of my aim for this project."
   ]
  },
  {
   "cell_type": "markdown",
   "metadata": {},
   "source": [
    "<h2>Data</h2>"
   ]
  },
  {
   "cell_type": "markdown",
   "metadata": {},
   "source": [
    "The variable we are interested in predicting is comemrcial real estate prices\n",
    "\n",
    "In the first iteration of this model, to make these predictions, I employ:\n",
    "- Chicago GeoJSON data\n",
    "- Chicago POI data\n",
    "- Chicago commercial real estate prices\n",
    "\n",
    "The GeoJSON data is used to establish the boundaries within which points of interest and real estate prices are considered. This data is made available by the City of Chicago, and has been structured for use by Github user <i>wbdean</i> available at the following URL: https://raw.githubusercontent.com/wbdean/chicago_geojson/master/chicagoCommunities.geojson\n",
    "\n",
    "POI data is pulled from the Foursquare API.\n",
    "\n",
    "Commercial real estate prices are sourced from property listings on the web. To account for properties of different sizes, I calculate these as price per square foot. To control for variation in prices likely caused by property features, I drop outliers which can be explained as, for example, properties of historical or technical significance, and then apply the mean across the neighborhood.\n",
    "\n",
    "This section will be updated with specific POI data collection parameters and real estate price sources as I proceed with this project."
   ]
  },
  {
   "cell_type": "markdown",
   "metadata": {},
   "source": [
    "Future iterations of this model should include:\n",
    "- Time series data - for example: the effect of the addition of a new POI, even if significant, may not be immediate\n",
    "- Demographic data - my model assumes demographics, specifically income, are approximated, albeit roughly, by points of interest; for example: many fast food restaurants and few fine dining restaurants would indicate lower income and, in turn, lower property prices\n",
    "- Property types - for example: a billboard's pricing will be affected more heavily by passing traffic density than by local demographics or POIs\n",
    "\n",
    "I have chosen to exclude them for the time being as:\n",
    "- Time series data, particularly with regards to points of interest, will present a significant challenge for data collection\n",
    "- Without time series data, demographic data, which is collected only in long intervals, loses much of its predictive value\n",
    "- Pricing of special property types (e.g. billboards), while of interest to owners of such properties, would require domain knowledge which I do not have - for the time being, in my model these should be effectively controlled for in my real estate price calculation's removal of outliers"
   ]
  }
 ],
 "metadata": {
  "kernelspec": {
   "display_name": "Python 3",
   "language": "python",
   "name": "python3"
  },
  "language_info": {
   "codemirror_mode": {
    "name": "ipython",
    "version": 3
   },
   "file_extension": ".py",
   "mimetype": "text/x-python",
   "name": "python",
   "nbconvert_exporter": "python",
   "pygments_lexer": "ipython3",
   "version": "3.6.8"
  }
 },
 "nbformat": 4,
 "nbformat_minor": 2
}
